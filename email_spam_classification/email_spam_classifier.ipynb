{
 "cells": [
  {
   "cell_type": "code",
   "execution_count": 1,
   "metadata": {},
   "outputs": [],
   "source": [
    "import pandas as pd\n",
    "from sklearn.feature_extraction.text import CountVectorizer\n",
    "from sklearn.naive_bayes import GaussianNB\n",
    "from sklearn import svm\n",
    "from sklearn.model_selection import GridSearchCV\n",
    "import matplotlib.pyplot as plt\n",
    "import joblib"
   ]
  },
  {
   "cell_type": "code",
   "execution_count": 2,
   "metadata": {},
   "outputs": [
    {
     "name": "stdout",
     "output_type": "stream",
     "text": [
      "     Label                                          EmailText\n",
      "0      ham  Go until jurong point, crazy.. Available only ...\n",
      "1      ham                      Ok lar... Joking wif u oni...\n",
      "2     spam  Free entry in 2 a wkly comp to win FA Cup fina...\n",
      "3      ham  U dun say so early hor... U c already then say...\n",
      "4      ham  Nah I don't think he goes to usf, he lives aro...\n",
      "...    ...                                                ...\n",
      "5572  spam                                You won the lottery\n",
      "5573  spam                            You won the free coupen\n",
      "5574  spam                         You won the holiday ticket\n",
      "5575  spam                                 You won the 1000 $\n",
      "5576  spam                              You won the free gift\n",
      "\n",
      "[5577 rows x 2 columns]\n"
     ]
    }
   ],
   "source": [
    "dataframe=pd.read_csv('spam.csv')\n",
    "print(dataframe)"
   ]
  },
  {
   "cell_type": "code",
   "execution_count": 3,
   "metadata": {},
   "outputs": [
    {
     "name": "stdout",
     "output_type": "stream",
     "text": [
      "(5577,)\n"
     ]
    }
   ],
   "source": [
    "X=dataframe['EmailText'].values\n",
    "Y=dataframe['Label'].values\n",
    "\n",
    "X_train,Y_train=X[0:],Y[0:]\n",
    "X_test,Y_test=X[4457:],Y[4457:]\n",
    "print(X_train.shape)\n"
   ]
  },
  {
   "cell_type": "code",
   "execution_count": 4,
   "metadata": {},
   "outputs": [
    {
     "name": "stdout",
     "output_type": "stream",
     "text": [
      "  (0, 3559)\t1\n",
      "  (0, 8048)\t1\n",
      "  (0, 4360)\t1\n",
      "  (0, 5934)\t1\n",
      "  (0, 2333)\t1\n",
      "  (0, 1304)\t1\n",
      "  (0, 5551)\t1\n",
      "  (0, 4097)\t1\n",
      "  (0, 1754)\t1\n",
      "  (0, 3643)\t1\n",
      "  (0, 8511)\t1\n",
      "  (0, 4486)\t1\n",
      "  (0, 1752)\t1\n",
      "  (0, 2053)\t1\n",
      "  (0, 7663)\t1\n",
      "  (0, 3603)\t1\n",
      "  (0, 1070)\t1\n",
      "  (0, 8287)\t1\n",
      "  (1, 5518)\t1\n",
      "  (1, 4522)\t1\n",
      "  (1, 4328)\t1\n",
      "  (1, 8414)\t1\n",
      "  (1, 5547)\t1\n",
      "  (2, 4097)\t1\n",
      "  (2, 3367)\t1\n",
      "  :\t:\n",
      "  (5571, 7903)\t1\n",
      "  (5571, 6520)\t1\n",
      "  (5572, 8631)\t1\n",
      "  (5572, 7645)\t1\n",
      "  (5572, 8486)\t1\n",
      "  (5572, 4744)\t1\n",
      "  (5573, 3367)\t1\n",
      "  (5573, 8631)\t1\n",
      "  (5573, 7645)\t1\n",
      "  (5573, 8486)\t1\n",
      "  (5573, 2303)\t1\n",
      "  (5574, 8631)\t1\n",
      "  (5574, 7645)\t1\n",
      "  (5574, 8486)\t1\n",
      "  (5574, 3906)\t1\n",
      "  (5574, 7726)\t1\n",
      "  (5575, 8631)\t1\n",
      "  (5575, 7645)\t1\n",
      "  (5575, 8486)\t1\n",
      "  (5575, 299)\t1\n",
      "  (5576, 3367)\t1\n",
      "  (5576, 8631)\t1\n",
      "  (5576, 7645)\t1\n",
      "  (5576, 8486)\t1\n",
      "  (5576, 3527)\t1\n"
     ]
    }
   ],
   "source": [
    "cv=CountVectorizer()\n",
    "features=cv.fit_transform(X_train)\n",
    "#label=cv.fit_transform(Y_train)\n",
    "#print(X_train)\n",
    "print(features)\n"
   ]
  },
  {
   "cell_type": "code",
   "execution_count": 5,
   "metadata": {},
   "outputs": [],
   "source": [
    "tuned_parameters={'kernel':[\"linear\",\"rbf\"],'gamma':[1e-2,1e-3],'C':[1,10,100,1000,10000]}\n",
    "model=GridSearchCV(svm.SVC(),tuned_parameters)"
   ]
  },
  {
   "cell_type": "code",
   "execution_count": 6,
   "metadata": {},
   "outputs": [],
   "source": [
    "#model=svm.SVC()"
   ]
  },
  {
   "cell_type": "code",
   "execution_count": 7,
   "metadata": {},
   "outputs": [
    {
     "name": "stdout",
     "output_type": "stream",
     "text": [
      "{'C': 100, 'gamma': 0.001, 'kernel': 'rbf'}\n"
     ]
    },
    {
     "data": {
      "text/plain": [
       "['email_spam_model']"
      ]
     },
     "execution_count": 7,
     "metadata": {},
     "output_type": "execute_result"
    }
   ],
   "source": [
    "model.fit(features,Y_train)\n",
    "print(model.best_params_)\n",
    "joblib.dump(model,'email_spam_model')"
   ]
  },
  {
   "cell_type": "code",
   "execution_count": 8,
   "metadata": {},
   "outputs": [],
   "source": [
    "fetures_test=cv.transform(X_test)"
   ]
  },
  {
   "cell_type": "code",
   "execution_count": 9,
   "metadata": {},
   "outputs": [
    {
     "name": "stdout",
     "output_type": "stream",
     "text": [
      "accuracy of model is: 0.9982142857142857\n"
     ]
    }
   ],
   "source": [
    "print(\"accuracy of model is:\",model.score(fetures_test,Y_test))"
   ]
  },
  {
   "cell_type": "code",
   "execution_count": 10,
   "metadata": {},
   "outputs": [
    {
     "data": {
      "text/plain": [
       "'\\n#plt.plot(fetures_test,Y_test)\\n#plt.show()\\n\\nstring=\"\"\\ninput=[string]\\ncheck=cv.transform(input)\\nprint(check)\\nY_test=model.predict(check)\\nprint(Y_test)\\nprint(\"accuracy of model is:\",model.score(check,Y_test))\\n'"
      ]
     },
     "execution_count": 10,
     "metadata": {},
     "output_type": "execute_result"
    }
   ],
   "source": [
    "'''\n",
    "#plt.plot(fetures_test,Y_test)\n",
    "#plt.show()\n",
    "\n",
    "string=\"\"\n",
    "input=[string]\n",
    "check=cv.transform(input)\n",
    "print(check)\n",
    "Y_test=model.predict(check)\n",
    "print(Y_test)\n",
    "print(\"accuracy of model is:\",model.score(check,Y_test))\n",
    "'''"
   ]
  }
 ],
 "metadata": {
  "kernelspec": {
   "display_name": "Python 3",
   "language": "python",
   "name": "python3"
  },
  "language_info": {
   "codemirror_mode": {
    "name": "ipython",
    "version": 3
   },
   "file_extension": ".py",
   "mimetype": "text/x-python",
   "name": "python",
   "nbconvert_exporter": "python",
   "pygments_lexer": "ipython3",
   "version": "3.7.7"
  }
 },
 "nbformat": 4,
 "nbformat_minor": 4
}
